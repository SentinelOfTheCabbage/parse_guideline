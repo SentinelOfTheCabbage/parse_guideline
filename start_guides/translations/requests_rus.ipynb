{
 "cells": [
  {
   "cell_type": "markdown",
   "metadata": {},
   "source": [
    "# Кто такой ваш этот Requests, и с чем его едят?\n",
    "<font size=\"1\">\"Он нам и нафиг не нужон етот ваш реквестc\" - © Любители Selenium</font>\n",
    "\n",
    "В ситуациях, когда ваш браузер общается с сервером посредством API, вы можете через панель разработчика отследить запросы, посылаемые вашим браузером. Библиотека requests позволяет иммитировать такого рода запросы и изменять их. Даже, казалось бы, таким слабым методом можно выкачивать сотни и тысячи различных сайтов (напомню Requests+API - самая быстра связка в плане выгрузки данных, т.к без всякой графической оболочки данные подаются в том виде, в котором нам их будет проще всего обрабатывать). Приступаем\n",
    "\n",
    "---\n",
    "Начнём, конечно, с импорта либы"
   ]
  },
  {
   "cell_type": "code",
   "execution_count": 5,
   "metadata": {},
   "outputs": [],
   "source": [
    "import requests\n",
    "import json # Для обработки возвращаемых значений"
   ]
  },
  {
   "cell_type": "markdown",
   "metadata": {},
   "source": [
    "### GET-запросы\n",
    "Метод get осуществляет GET-запрос к серверу. Причем все данные запроса передаются в строке запроса.\n",
    "\n",
    "Это можно рассмотреть на примере большинства запросов в сети. Например к сайту Mapy.cz:\n",
    "URL : https://pro.mapy.cz/suggest/?count=5&phrase=metro&lon=37.2652&lat=55.6784&zoom=7&enableCategories=1&lang=en&personalize=1&includeNonEntityTypes=1&userLat=55.6784&userLon=37.2652&userAccuracy=20000\n",
    "\n",
    "Соответственно тут имеются следующие данные\n",
    "```python\n",
    "- count=5\n",
    "- phrase=metro\n",
    "- lon=37.2652\n",
    "- lat=55.6784\n",
    "- zoom=7\n",
    "- enableCategories=1\n",
    "- lang=en\n",
    "- personalize=1\n",
    "- includeNonEntityTypes=1\n",
    "- userLat=55.6784\n",
    "- userLon=37.2652\n",
    "- userAccuracy=20000\n",
    "```\n",
    "\n",
    "Параметры GET-запросов всегда начинаются после символа <mark>?</mark> и разделяются между собой символом <mark>&</mark>\n",
    "\n",
    "*Интереса и опыта ради можете сами покрутить параметры с целью понять, за что отвечает каждый из параметров (хотя тут названия говорят сами за себя)*"
   ]
  },
  {
   "cell_type": "markdown",
   "metadata": {},
   "source": [
    "Посылаются такие запросы следующим образом:"
   ]
  },
  {
   "cell_type": "code",
   "execution_count": 9,
   "metadata": {},
   "outputs": [
    {
     "data": {
      "text/plain": [
       "<Response [200]>"
      ]
     },
     "execution_count": 9,
     "metadata": {},
     "output_type": "execute_result"
    }
   ],
   "source": [
    "# URL записан в многострочном формате лишь для того чтобы вам было удобнее редактировать некоторые параметры.\n",
    "# В реальных ситуациях их можно писать и в одну строку в том числе (!)\n",
    "# На деле символы переноса строки отрицательно влияют на возвращаемые значения!\n",
    "url = '''\n",
    "https://pro.mapy.cz/suggest/?\n",
    "count=5&\n",
    "phrase=metro&\n",
    "lon=37.2652&\n",
    "lat=55.6784&\n",
    "zoom=7&\n",
    "enableCategories=1&\n",
    "lang=en&\n",
    "personalize=1&\n",
    "includeNonEntityTypes=1&\n",
    "userLat=55.6784&\n",
    "userLon=37.2652&\n",
    "userAccuracy=20000\n",
    "'''\n",
    "requests.get(url.replace('\\n',''))"
   ]
  },
  {
   "cell_type": "markdown",
   "metadata": {},
   "source": [
    "`<Response [200]>` означает, что запрос успешно обработан и получен ответ. За дополнительной информацией обращайтесь [сюда](https://ru.wikipedia.org/wiki/%D0%A1%D0%BF%D0%B8%D1%81%D0%BE%D0%BA_%D0%BA%D0%BE%D0%B4%D0%BE%D0%B2_%D1%81%D0%BE%D1%81%D1%82%D0%BE%D1%8F%D0%BD%D0%B8%D1%8F_HTTP)\n",
    "\n",
    "Взглянем-ка на то, что вернул сервер\n",
    "\n"
   ]
  },
  {
   "cell_type": "code",
   "execution_count": 11,
   "metadata": {},
   "outputs": [
    {
     "name": "stdout",
     "output_type": "stream",
     "text": [
      "{'deletedFromBack': 0, 'hasGeo': 0, 'hasService': 0, 'id': 'd2d4e90a-4c8f-4e89-a109-fc86dee598ae', 'result': [{'category': 'pubtran_osm', 'highlight': [], 'sentence': '', 'userData': {'bbox': [55.63261902819228, 37.32790265526835, 55.636422066867894, 37.339131596319845], 'correctedResult': False, 'country': '', 'district': '', 'evidenceNumber': '', 'hasAddress': False, 'highlight': [0, 5], 'highlightSecond': [], 'houseNumber': '', 'iconType': 'default', 'id': 1071044353, 'img': '', 'importance': 0.140161, 'latitude': 55.634520593672576, 'longitude': 37.33351712579409, 'mmid': '', 'mmsource': '', 'mmtype': '', 'muniId': '', 'municipality': '', 'nuts': '', 'poiType': 'poi6001', 'poiTypeId': 6001, 'popularity': 0, 'premiseIds': [], 'quarter': '', 'region': '', 'relevance': 0.7496, 'ruianId': 0, 'source': 'osm', 'street': '', 'streetNumber': '', 'suggestFirstRow': 'Metro Rasskazovka', 'suggestSecondRow': 'Bus stop, Vnukovskoye Settlement, Russia', 'suggestThirdRow': '', 'ward': '', 'wikiId': 'Q0', 'zipCode': ''}}, {'category': 'pubtran_osm', 'highlight': [], 'sentence': '', 'userData': {'bbox': [55.63268927194981, 37.32815612402029, 55.63649230380758, 37.33938506507179], 'correctedResult': False, 'country': '', 'district': '', 'evidenceNumber': '', 'hasAddress': False, 'highlight': [0, 5], 'highlightSecond': [], 'houseNumber': '', 'iconType': 'default', 'id': 1018546959, 'img': '', 'importance': 0.140161, 'latitude': 55.63459083402113, 'longitude': 37.33377059454605, 'mmid': '', 'mmsource': '', 'mmtype': '', 'muniId': '', 'municipality': '', 'nuts': '', 'poiType': 'poi6001', 'poiTypeId': 6001, 'popularity': 0, 'premiseIds': [], 'quarter': '', 'region': '', 'relevance': 0.7492, 'ruianId': 0, 'source': 'osm', 'street': '', 'streetNumber': '', 'suggestFirstRow': 'Metro Rasskazovka', 'suggestSecondRow': 'Bus stop, Vnukovskoye Settlement, Russia', 'suggestThirdRow': '', 'ward': '', 'wikiId': 'Q0', 'zipCode': ''}}, {'category': 'pubtran_osm', 'highlight': [], 'sentence': '', 'userData': {'bbox': [55.63141440642674, 37.32761767056045, 55.63521756202178, 37.33884661161194], 'correctedResult': False, 'country': '', 'district': '', 'evidenceNumber': '', 'hasAddress': False, 'highlight': [0, 5], 'highlightSecond': [], 'houseNumber': '', 'iconType': 'default', 'id': 1059734960, 'img': '', 'importance': 0.140161, 'latitude': 55.6333160303675, 'longitude': 37.3332321410862, 'mmid': '', 'mmsource': '', 'mmtype': '', 'muniId': '', 'municipality': '', 'nuts': '', 'poiType': 'poi6001', 'poiTypeId': 6001, 'popularity': 0, 'premiseIds': [], 'quarter': '', 'region': '', 'relevance': 0.7409, 'ruianId': 0, 'source': 'osm', 'street': '', 'streetNumber': '', 'suggestFirstRow': 'Metro Rasskazovka', 'suggestSecondRow': 'Bus stop, Vnukovskoye Settlement, Russia', 'suggestThirdRow': '', 'ward': '', 'wikiId': 'Q0', 'zipCode': ''}}, {'category': 'pubtran_osm', 'highlight': [], 'sentence': '', 'userData': {'bbox': [55.63238071911979, 37.32982999008406, 55.63618378092558, 37.34105893113555], 'correctedResult': False, 'country': '', 'district': '', 'evidenceNumber': '', 'hasAddress': False, 'highlight': [0, 5], 'highlightSecond': [], 'houseNumber': '', 'iconType': 'default', 'id': 1018546091, 'img': '', 'importance': 0.140161, 'latitude': 55.63428229616532, 'longitude': 37.33544446060981, 'mmid': '', 'mmsource': '', 'mmtype': '', 'muniId': '', 'municipality': '', 'nuts': '', 'poiType': 'poi6001', 'poiTypeId': 6001, 'popularity': 0, 'premiseIds': [], 'quarter': '', 'region': '', 'relevance': 0.7399, 'ruianId': 0, 'source': 'osm', 'street': '', 'streetNumber': '', 'suggestFirstRow': 'Metro Rasskazovka', 'suggestSecondRow': 'Bus stop, Vnukovskoye Settlement, Russia', 'suggestThirdRow': '', 'ward': '', 'wikiId': 'Q0', 'zipCode': ''}}, {'category': 'pubtran_osm', 'highlight': [], 'sentence': '', 'userData': {'bbox': [55.632446352606856, 37.33025118071853, 55.63624940804229, 37.34148012177002], 'correctedResult': False, 'country': '', 'district': '', 'evidenceNumber': '', 'hasAddress': False, 'highlight': [0, 5], 'highlightSecond': [], 'houseNumber': '', 'iconType': 'default', 'id': 1018546174, 'img': '', 'importance': 0.140161, 'latitude': 55.634347926467164, 'longitude': 37.33586565124427, 'mmid': '', 'mmsource': '', 'mmtype': '', 'muniId': '', 'municipality': '', 'nuts': '', 'poiType': 'poi6001', 'poiTypeId': 6001, 'popularity': 0, 'premiseIds': [], 'quarter': '', 'region': '', 'relevance': 0.7388, 'ruianId': 0, 'source': 'osm', 'street': '', 'streetNumber': '', 'suggestFirstRow': 'Metro Rasskazovka', 'suggestSecondRow': 'Bus stop, Vnukovskoye Settlement, Russia', 'suggestThirdRow': '', 'ward': '', 'wikiId': 'Q0', 'zipCode': ''}}], 'sortToUserOnCategory': True}\n"
     ]
    }
   ],
   "source": [
    "response_content = requests.get(url.replace('\\n','')).text\n",
    "data = json.loads(response_content)\n",
    "print(data)"
   ]
  },
  {
   "cell_type": "markdown",
   "metadata": {},
   "source": [
    "Если пытаться анализировать данные (и смотреть что это за координаты), то мы обнаружим тут некоторые остановки и станции метро"
   ]
  },
  {
   "cell_type": "markdown",
   "metadata": {},
   "source": [
    "### POST-запросы\n",
    "\n",
    "Хоть метод GET и предназначен не для выдачи результата, а скорее сохранения поступающих данных, всё-же в некоторых ситуациях он возвращает более чем осмысленные данные. Давайте перейдём к примеру.\n",
    "\n",
    "Вот по такому запросу сайт search4faces ищет пользователей Vk, аватарка которых похожа на Павла Дурова =):"
   ]
  },
  {
   "cell_type": "code",
   "execution_count": 47,
   "metadata": {},
   "outputs": [],
   "source": [
    "url = 'https://search4faces.com/detect.php'\n",
    "\n",
    "data = {'query': 'vk01', 'source': 'vk', 'filename': '60bd1df3517cd6.18576655.jpg', 'boundings': [40, 175, 0, 163, 72, 143, 33, 123, 87, 118, 101, 96, 120, 73, 67, 90, 107, 101]}\n",
    "\n",
    "result = requests.post(url, data)"
   ]
  },
  {
   "cell_type": "markdown",
   "metadata": {},
   "source": [
    "Давайте посмотрим, что нам вернул сервис по запросу"
   ]
  },
  {
   "cell_type": "code",
   "execution_count": 51,
   "metadata": {},
   "outputs": [
    {
     "data": {
      "text/plain": [
       "{'faces_found': '0'}"
      ]
     },
     "execution_count": 51,
     "metadata": {},
     "output_type": "execute_result"
    }
   ],
   "source": [
    "json.loads(result.text)"
   ]
  },
  {
   "cell_type": "markdown",
   "metadata": {},
   "source": [
    "Ладно, допустим что Дуров удалил свою страницу в Вк =(\n",
    "\n",
    "<font size=\"1\">P.s на деле я попросту не смог найти нормального сервиса с нормальными POST-запросами. Исправлю при первой-же возможности</font>"
   ]
  },
  {
   "cell_type": "markdown",
   "metadata": {},
   "source": [
    "Тела запросов, посылаемых вашим браузером можно видеть в окне `Network` на панели `Request`. \n",
    "\n",
    "(не забудьте отфильтровать именно `POST-запросы`, прежде чем искать `Request`)"
   ]
  },
  {
   "cell_type": "markdown",
   "metadata": {},
   "source": [
    "### Итого\n",
    "\n",
    "Единственное отличие для нас - парсеров - в том, что `GET-запросы` содержат параметре прямиком в URL,а `POST-запросы`, посылают их, как-бы, отдельно"
   ]
  }
 ],
 "metadata": {
  "kernelspec": {
   "display_name": "Python 3",
   "language": "python",
   "name": "python3"
  },
  "language_info": {
   "codemirror_mode": {
    "name": "ipython",
    "version": 3
   },
   "file_extension": ".py",
   "mimetype": "text/x-python",
   "name": "python",
   "nbconvert_exporter": "python",
   "pygments_lexer": "ipython3",
   "version": "3.7.2"
  }
 },
 "nbformat": 4,
 "nbformat_minor": 2
}
