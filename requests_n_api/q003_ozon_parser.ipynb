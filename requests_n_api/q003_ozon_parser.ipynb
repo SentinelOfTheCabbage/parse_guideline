{
 "cells": [
  {
   "cell_type": "markdown",
   "metadata": {},
   "source": [
    "# Requests+API. Задание 3. Ozon parser \n",
    "\n",
    "Ваша задача - написать функцию, что будет запрашивать от пользователя наименование товара с клавиатуры, после чего обращаясь к API системы поиска Ozon (со страницы https://www.ozon.ru) будет собирать иформацию обо всех результатах запроса в единый файл (например `database.json`).\n",
    "\n",
    "В результирующий файл необходимо сохранить такие сведения,как:\n",
    "- Наименование\n",
    "- Бренд\n",
    "- Ссылка на товар\n",
    "- Стоимость\n",
    "- Размер скидки (если имеется)\n",
    "- Рейтинг\n",
    "- Число отзывов\n",
    "- Принадлежит ли товар категории \"Для взрослых\"\n",
    "- Принадлежит ли товар категории \"Алкоголь\"\n",
    "- Ближайший срок доставки"
   ]
  },
  {
   "cell_type": "code",
   "execution_count": 1,
   "metadata": {},
   "outputs": [],
   "source": [
    "import requests\n",
    "import json\n"
   ]
  },
  {
   "cell_type": "code",
   "execution_count": 2,
   "metadata": {},
   "outputs": [],
   "source": [
    "def parse_ozon(keyword):\n",
    "    pass"
   ]
  },
  {
   "cell_type": "code",
   "execution_count": null,
   "metadata": {},
   "outputs": [],
   "source": [
    "query = input('Input your query : ')\n",
    "parse_ozon(query)"
   ]
  },
  {
   "cell_type": "markdown",
   "metadata": {},
   "source": [
    "P.s в этом задании вы должны познакомиться с вложенными JSON'ами (да, и такие демоны существуют)"
   ]
  }
 ],
 "metadata": {
  "kernelspec": {
   "display_name": "Python 3",
   "language": "python",
   "name": "python3"
  },
  "language_info": {
   "codemirror_mode": {
    "name": "ipython",
    "version": 3
   },
   "file_extension": ".py",
   "mimetype": "text/x-python",
   "name": "python",
   "nbconvert_exporter": "python",
   "pygments_lexer": "ipython3",
   "version": "3.7.2"
  }
 },
 "nbformat": 4,
 "nbformat_minor": 2
}
