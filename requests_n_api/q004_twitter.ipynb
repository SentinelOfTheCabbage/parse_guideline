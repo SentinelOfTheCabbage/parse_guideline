{
 "cells": [
  {
   "cell_type": "markdown",
   "metadata": {},
   "source": [
    "# Requests+API. Задание 4. Twit-twit \n",
    "\n",
    "Ваша задача - написать функцию, что будет запрашивать от пользователя наименование страницы с [Твиттера](https://twitter.com/) (например строку вид  `@serjtankian`) и собирать информацию обо всех твитах данного пользователя. Реализуйте в своей функции флаг `replies: bool` и `replies_only: bool` отвечающий за учёт сбора информации об ответах пользователя на другие твиты."
   ]
  },
  {
   "cell_type": "code",
   "execution_count": 1,
   "metadata": {},
   "outputs": [],
   "source": [
    "def parse_twitter(account_name: str, replies: bool=False, replies_only: bool=False) -> list:\n",
    "    pass"
   ]
  }
 ],
 "metadata": {
  "kernelspec": {
   "display_name": "Python 3",
   "language": "python",
   "name": "python3"
  },
  "language_info": {
   "codemirror_mode": {
    "name": "ipython",
    "version": 3
   },
   "file_extension": ".py",
   "mimetype": "text/x-python",
   "name": "python",
   "nbconvert_exporter": "python",
   "pygments_lexer": "ipython3",
   "version": "3.7.2"
  }
 },
 "nbformat": 4,
 "nbformat_minor": 2
}
