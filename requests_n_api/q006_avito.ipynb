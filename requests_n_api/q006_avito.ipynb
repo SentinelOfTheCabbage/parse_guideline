{
 "cells": [
  {
   "cell_type": "markdown",
   "metadata": {},
   "source": [
    "# Requests+API. Задание 6. Avito.ru \n",
    "\n",
    "Ваша задача - научиться парсить какую нибудь конкретную категорию либо даже запрос по ключевому слову на Авито. Для достижения целей настоятельно советую воспользоваться методом `get_session()` для получения сессии и работы с сайтом (отправки `GET/POST`-запросов)\n",
    "\n",
    "---\n",
    "\n",
    "<font size=1>Для особо любопытных: сайт Avito использует `TLSv1.2` протокол, в то время как requests по дефолту использует `TLSv1.1`, кажется. Подробнее [под катом](https://ru.stackoverflow.com/questions/1224935/python-requests-%D0%BA%D0%B0%D0%BA-%D0%BF%D0%B0%D1%80%D1%81%D0%B8%D1%82%D1%8C-%D0%B0%D0%B2%D0%B8%D1%82%D0%BE)</font>"
   ]
  },
  {
   "cell_type": "code",
   "execution_count": 1,
   "metadata": {},
   "outputs": [],
   "source": [
    "import ssl\n",
    "import requests\n",
    "\n",
    "from requests.adapters import HTTPAdapter\n",
    "from requests.packages.urllib3.poolmanager import PoolManager\n",
    "from requests.packages.urllib3.util import ssl_\n",
    "\n",
    "CIPHERS = \"\"\"ECDHE-RSA-AES256-GCM-SHA384:ECDHE-ECDSA-AES256-GCM-SHA384:ECDHE-RSA-AES256-SHA384:ECDHE-ECDSA-AES256-SHA384:ECDHE-RSA-AES128-GCM-SHA256:ECDHE-RSA-AES128-SHA256:AES256-SHA\"\"\"\n",
    "\n",
    "def get_session():\n",
    "    class TlsAdapter(HTTPAdapter):\n",
    "\n",
    "        def __init__(self, ssl_options=0, **kwargs):\n",
    "            self.ssl_options = ssl_options\n",
    "            super(TlsAdapter, self).__init__(**kwargs)\n",
    "\n",
    "        def init_poolmanager(self, *pool_args, **pool_kwargs):\n",
    "            ctx = ssl_.create_urllib3_context(ciphers=CIPHERS, cert_reqs=ssl.CERT_REQUIRED, options=self.ssl_options)\n",
    "            self.poolmanager = PoolManager(*pool_args, ssl_context=ctx, **pool_kwargs)\n",
    "\n",
    "    session = requests.session()\n",
    "    adapter = TlsAdapter(ssl.OP_NO_TLSv1 | ssl.OP_NO_TLSv1_1)\n",
    "    session.mount(\"https://\", adapter)\n",
    "    return session\n",
    "\n",
    "cookies = dict()\n",
    "headers = dict()\n",
    "params  = tuple()\n",
    "data    = str()\n",
    "url     = str()\n",
    "\n",
    "session = get_session()\n",
    "\n",
    "# Get request example\n",
    "# session.request('GET', url, headers=headers, params=params, data=data, cookies=cookies)"
   ]
  },
  {
   "cell_type": "markdown",
   "metadata": {},
   "source": [
    "Ваше решение:"
   ]
  },
  {
   "cell_type": "code",
   "execution_count": null,
   "metadata": {},
   "outputs": [],
   "source": [
    "def parse_avito():\n",
    "    pass"
   ]
  }
 ],
 "metadata": {
  "kernelspec": {
   "display_name": "Python 3",
   "language": "python",
   "name": "python3"
  },
  "language_info": {
   "codemirror_mode": {
    "name": "ipython",
    "version": 3
   },
   "file_extension": ".py",
   "mimetype": "text/x-python",
   "name": "python",
   "nbconvert_exporter": "python",
   "pygments_lexer": "ipython3",
   "version": "3.7.2"
  }
 },
 "nbformat": 4,
 "nbformat_minor": 2
}
