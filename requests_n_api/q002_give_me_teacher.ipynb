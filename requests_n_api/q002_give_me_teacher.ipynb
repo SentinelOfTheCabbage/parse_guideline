{
 "cells": [
  {
   "cell_type": "markdown",
   "metadata": {},
   "source": [
    "# Requests+API. Задание 2. Give me Teacher (!) \n",
    "\n",
    "Ваша задача - написать функцию (или возможно несколько, вызывающих друг друга в целях абстракции), что будет запрашивать от пользователя название какой либо услуги (например название школьного предмета/ \"сантехник\" и т.п.), после чего обращаясь непосредственно к API системы поиска специалиста (со страницы [Profi.ru](https://profi.ru/)) будет сохранять в *JSON*-файл в папке с кодом вывод по ВСЕМ возможным специалистам с указанием следующих параметров:\n",
    "\n",
    "- ФИО\n",
    "- Пол\n",
    "- Оценка пользователя\n",
    "- Количество отзывов\n",
    "- Готовность работать дистанционно\n",
    "- Статус проверки паспорта"
   ]
  },
  {
   "cell_type": "code",
   "execution_count": 2,
   "metadata": {},
   "outputs": [],
   "source": [
    "# library field\n",
    "\n",
    "import this"
   ]
  },
  {
   "cell_type": "code",
   "execution_count": 3,
   "metadata": {},
   "outputs": [],
   "source": [
    "def give_me_teacher():\n",
    "    pass"
   ]
  },
  {
   "cell_type": "code",
   "execution_count": null,
   "metadata": {},
   "outputs": [],
   "source": []
  }
 ],
 "metadata": {
  "kernelspec": {
   "display_name": "Python 3",
   "language": "python",
   "name": "python3"
  },
  "language_info": {
   "codemirror_mode": {
    "name": "ipython",
    "version": 3
   },
   "file_extension": ".py",
   "mimetype": "text/x-python",
   "name": "python",
   "nbconvert_exporter": "python",
   "pygments_lexer": "ipython3",
   "version": "3.7.2"
  }
 },
 "nbformat": 4,
 "nbformat_minor": 2
}
