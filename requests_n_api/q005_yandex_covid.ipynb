{
 "cells": [
  {
   "cell_type": "markdown",
   "metadata": {},
   "source": [
    "# Requests+API. Задание 5. Yandex/COVID-19 statistics \n",
    "\n",
    "Напишите функцию, отображающую самую актуальную информацию о заболеваемости/смертности в стране по COVID-19. Для этого вам нужно будет научиться парсить [данный сайт](https://yandex.ru/covid19/stat)\n",
    "\n",
    "---\n",
    "\n",
    "Ваша функция сперва должна предложить пользователю перечень стран на выбор. После выбора пользователя верните краткую информацию о заболеваемости/смертности по COVID-19 в стране. Если хочется повесилиться, то также можете построить графики для анализа зависимостей."
   ]
  },
  {
   "cell_type": "code",
   "execution_count": null,
   "metadata": {},
   "outputs": [],
   "source": [
    "import requests\n",
    "\n",
    "def get_covid_statistic():\n",
    "    pass"
   ]
  }
 ],
 "metadata": {
  "kernelspec": {
   "display_name": "Python 3",
   "language": "python",
   "name": "python3"
  },
  "language_info": {
   "codemirror_mode": {
    "name": "ipython",
    "version": 3
   },
   "file_extension": ".py",
   "mimetype": "text/x-python",
   "name": "python",
   "nbconvert_exporter": "python",
   "pygments_lexer": "ipython3",
   "version": "3.7.2"
  }
 },
 "nbformat": 4,
 "nbformat_minor": 2
}
