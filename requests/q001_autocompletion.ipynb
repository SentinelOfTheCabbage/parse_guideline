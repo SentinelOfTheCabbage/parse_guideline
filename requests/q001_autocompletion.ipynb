{
 "cells": [
  {
   "cell_type": "markdown",
   "metadata": {},
   "source": [
    "# Requests+API. Задание 1. Autocompletion \n",
    "\n",
    "Ваша задача - написать функцию, что будет запрашивать от пользователя слово с клавиатуры. после чего обращаясь непосредственно к API системы поиска Яндекса (со страницы https://www.yandex.ru) будет возвращать наиболее вероятное автодополнение.\n",
    "\n",
    "Например пользователь вводит:\n",
    "- **хле**, а програма должна ему вернуть **хлебопечка**\n",
    "- **rjhhjp**, а программа возввращает  **коррозия металла**"
   ]
  },
  {
   "cell_type": "code",
   "execution_count": 4,
   "metadata": {},
   "outputs": [],
   "source": [
    "# library field\n",
    "\n",
    "import this"
   ]
  },
  {
   "cell_type": "code",
   "execution_count": 2,
   "metadata": {},
   "outputs": [],
   "source": [
    "def autocompletion(word):\n",
    "    pass"
   ]
  }
 ],
 "metadata": {
  "kernelspec": {
   "display_name": "Python 3",
   "language": "python",
   "name": "python3"
  },
  "language_info": {
   "codemirror_mode": {
    "name": "ipython",
    "version": 3
   },
   "file_extension": ".py",
   "mimetype": "text/x-python",
   "name": "python",
   "nbconvert_exporter": "python",
   "pygments_lexer": "ipython3",
   "version": "3.7.2"
  }
 },
 "nbformat": 4,
 "nbformat_minor": 2
}
